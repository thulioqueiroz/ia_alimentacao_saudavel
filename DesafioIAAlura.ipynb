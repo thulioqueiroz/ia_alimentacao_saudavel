{
  "nbformat": 4,
  "nbformat_minor": 0,
  "metadata": {
    "colab": {
      "provenance": [],
      "mount_file_id": "1P260pLdKQxYFkUsCAWLrl7uVBK1Lsqgc",
      "authorship_tag": "ABX9TyNw3t/eTo+f+fvv5Cda5KVr",
      "include_colab_link": true
    },
    "kernelspec": {
      "name": "python3",
      "display_name": "Python 3"
    },
    "language_info": {
      "name": "python"
    }
  },
  "cells": [
    {
      "cell_type": "markdown",
      "metadata": {
        "id": "view-in-github",
        "colab_type": "text"
      },
      "source": [
        "<a href=\"https://colab.research.google.com/github/thulioqueiroz/ia_alimentacao_saudavel/blob/main/DesafioIAAlura.ipynb\" target=\"_parent\"><img src=\"https://colab.research.google.com/assets/colab-badge.svg\" alt=\"Open In Colab\"/></a>"
      ]
    },
    {
      "cell_type": "markdown",
      "source": [
        "# Desafio IA Alura\n",
        "\n",
        "\n",
        "* Projeto comida saudável\n",
        "* Thulio Queiroz\n",
        "* https://github.com/thulioqueiroz/ia_alimentacao_saudavel\n",
        "\n",
        "\n"
      ],
      "metadata": {
        "id": "2V77BjSuxThO"
      }
    },
    {
      "cell_type": "markdown",
      "source": [
        "### Install & import"
      ],
      "metadata": {
        "id": "4cSsrwbIyBJc"
      }
    },
    {
      "cell_type": "code",
      "source": [
        "!pip install -U -q google-generativeai"
      ],
      "metadata": {
        "id": "3HTJx51wyFj_"
      },
      "execution_count": 1,
      "outputs": []
    },
    {
      "cell_type": "code",
      "source": [
        "import io\n",
        "import json\n",
        "from pathlib import Path\n",
        "import hashlib\n",
        "import google.generativeai as genai\n",
        "from getpass import getpass"
      ],
      "metadata": {
        "id": "CsdF3HTmyg7M"
      },
      "execution_count": 2,
      "outputs": []
    },
    {
      "cell_type": "code",
      "source": [
        "from google.colab import drive\n",
        "drive.mount('/gdrive')"
      ],
      "metadata": {
        "colab": {
          "base_uri": "https://localhost:8080/"
        },
        "id": "1xv6L5zBygwG",
        "outputId": "362e4a4d-d74f-4e3f-b537-675a3647505b"
      },
      "execution_count": 3,
      "outputs": [
        {
          "output_type": "stream",
          "name": "stdout",
          "text": [
            "Mounted at /gdrive\n"
          ]
        }
      ]
    },
    {
      "cell_type": "code",
      "source": [
        "genai.configure(api_key=getpass(\"Digite sua chave privada: \"))"
      ],
      "metadata": {
        "colab": {
          "base_uri": "https://localhost:8080/"
        },
        "id": "z7973Af305Kx",
        "outputId": "d227f994-e86e-46a5-ad68-6fb005b6a6e4"
      },
      "execution_count": 4,
      "outputs": [
        {
          "name": "stdout",
          "output_type": "stream",
          "text": [
            "Digite sua chave privada: ··········\n"
          ]
        }
      ]
    },
    {
      "cell_type": "code",
      "source": [
        "generation_config = {\n",
        "  \"temperature\": 1,\n",
        "  \"top_p\": 0.95,\n",
        "  \"top_k\": 0,\n",
        "  \"max_output_tokens\": 8192,\n",
        "}"
      ],
      "metadata": {
        "id": "iDun-hqt1L5y"
      },
      "execution_count": 5,
      "outputs": []
    },
    {
      "cell_type": "code",
      "source": [
        "safety_settings = [\n",
        "  {\n",
        "    \"category\": \"HARM_CATEGORY_HARASSMENT\",\n",
        "    \"threshold\": \"BLOCK_MEDIUM_AND_ABOVE\"\n",
        "  },\n",
        "  {\n",
        "    \"category\": \"HARM_CATEGORY_HATE_SPEECH\",\n",
        "    \"threshold\": \"BLOCK_MEDIUM_AND_ABOVE\"\n",
        "  },\n",
        "  {\n",
        "    \"category\": \"HARM_CATEGORY_SEXUALLY_EXPLICIT\",\n",
        "    \"threshold\": \"BLOCK_MEDIUM_AND_ABOVE\"\n",
        "  },\n",
        "  {\n",
        "    \"category\": \"HARM_CATEGORY_DANGEROUS_CONTENT\",\n",
        "    \"threshold\": \"BLOCK_MEDIUM_AND_ABOVE\"\n",
        "  },\n",
        "]"
      ],
      "metadata": {
        "id": "nbTTrZgw1Pj_"
      },
      "execution_count": 6,
      "outputs": []
    },
    {
      "cell_type": "code",
      "source": [
        "model = genai.GenerativeModel(model_name=\"gemini-1.5-pro-latest\",\n",
        "                              generation_config=generation_config,\n",
        "                              safety_settings=safety_settings)"
      ],
      "metadata": {
        "id": "uOUi5NgZ1TgV"
      },
      "execution_count": 7,
      "outputs": []
    },
    {
      "cell_type": "code",
      "source": [
        "response = model.generate_content(\"Qual o ultimo campeao da ultima copa do mundo de futebol?, reponda somente no nome do pais vencedor\")"
      ],
      "metadata": {
        "id": "pBaVWP3-1XL9"
      },
      "execution_count": 8,
      "outputs": []
    },
    {
      "cell_type": "code",
      "source": [
        "response.text"
      ],
      "metadata": {
        "colab": {
          "base_uri": "https://localhost:8080/",
          "height": 35
        },
        "id": "ug1_dKsN1pBT",
        "outputId": "db255230-d150-4e62-cb1d-e0c0a66a9518"
      },
      "execution_count": 9,
      "outputs": [
        {
          "output_type": "execute_result",
          "data": {
            "text/plain": [
              "'Argentina \\n'"
            ],
            "application/vnd.google.colaboratory.intrinsic+json": {
              "type": "string"
            }
          },
          "metadata": {},
          "execution_count": 9
        }
      ]
    },
    {
      "cell_type": "code",
      "source": [
        "convo = model.start_chat(history=[])"
      ],
      "metadata": {
        "id": "oegXzjpgNfbL"
      },
      "execution_count": 10,
      "outputs": []
    },
    {
      "cell_type": "code",
      "source": [
        "image_path = \"/content/img\""
      ],
      "metadata": {
        "id": "Fm1nkcVPirtN"
      },
      "execution_count": 11,
      "outputs": []
    },
    {
      "cell_type": "code",
      "source": [
        "def gera_sentimento(img):\n",
        "  prompt_parts = [\n",
        "  \"Extraia os alimentos na imagem fornecida e coloque-os em uma lista em ordem alfabética. Além de descrever o prato faça uma analise de sentimento se o prato e saldável ou não e se tem algum alimento que pode provocar alguma alergia.\",\n",
        "  \"input: \",\n",
        "  genai.upload_file(f\"{image_path}/prato-saudavel-completo.png\"),\n",
        "  \"Referencia de prato saldável\",\n",
        "  \"output: - As duas primeiras partes (50% do prato) ficam destinadas à salada (verduras e legumes). \\n- A terceira parte (25% do prato) fica reservada ao carboidrato. \\n- A parte que restou (25%) deve ser dividida entre proteína animal e vegetal.\",\n",
        "  \"input: \",\n",
        "  genai.upload_file(f\"{image_path}/artigo-alimentos-reacoesalergicas.png\"),\n",
        "  \"Lista de alimentos que provocam alergia alimentar\",\n",
        "  \"output: - Trigo (centeio, cevada, aveia e suas estirpes hibridizadas); \\n- Leites de todas as espécies de animais mamíferos; \\n- Ovos; \\n- Crustáceos;\\n- Peixes; \\n- Amendoim; \\n- Soja; \\n- Amêndoas; \\n- Avelãs; \\n- Castanhas, (entre elas a castanha-do-brasil ou castanha-do-pará e a castanha-de-caju);\\n- Macadâmias;\\n- Nozes; \\n- Pecãs; \\n- Pistaches e- Pinoli.\",\n",
        "  \"input: \",\n",
        "  genai.upload_file(f\"{img}\"),\n",
        "  \"output: \"\n",
        "  ]\n",
        "  response = convo.model.generate_content(prompt_parts)\n",
        "  return response.text\n"
      ],
      "metadata": {
        "id": "lMUsb_1ctdie"
      },
      "execution_count": 12,
      "outputs": []
    },
    {
      "cell_type": "code",
      "source": [
        "image_path = \"/content/img\""
      ],
      "metadata": {
        "id": "7PX8Ojzsil9y"
      },
      "execution_count": 13,
      "outputs": []
    },
    {
      "cell_type": "code",
      "source": [
        "result_1 = gera_sentimento(f\"{image_path}/prato_1.jpg\")\n",
        "print(f\"```markdown\\n{result_1}\\n```\")"
      ],
      "metadata": {
        "colab": {
          "base_uri": "https://localhost:8080/",
          "height": 610
        },
        "id": "z2N3182cZBEl",
        "outputId": "9451636c-b399-436f-9f8d-74815b0513a0"
      },
      "execution_count": 14,
      "outputs": [
        {
          "output_type": "stream",
          "name": "stdout",
          "text": [
            "```markdown\n",
            "## Análise do prato\n",
            "\n",
            "**Alimentos em ordem alfabética:**\n",
            "\n",
            "1. Bolinhos Falafel\n",
            "2. Molho (provavelmente à base de Tahine)\n",
            "3. Pão Pita\n",
            "4. Salsa\n",
            "\n",
            "**Descrição:** O prato consiste em bolinhos de falafel, provavelmente fritos, servidos sobre uma cama de alface, acompanhados de pão pita e um molho, possivelmente à base de tahine. \n",
            "\n",
            "**Análise de sentimento:** \n",
            "\n",
            "* **Positivo:** O prato inclui ingredientes nutritivos, como o falafel, feito à base de grão de bico, que é uma boa fonte de proteína vegetal e fibras. A salsa também contribui com vitaminas e minerais.\n",
            "* **Negativo:** Os bolinhos de falafel são geralmente fritos, o que aumenta o teor de gordura e calorias do prato.  O pão pita, embora seja um acompanhamento tradicional, é feito de farinha branca refinada, que possui baixo valor nutricional.  O molho, dependendo dos ingredientes, pode ser rico em gordura e sódio. \n",
            "\n",
            "**Conclusão:** O prato pode ser considerado moderadamente saudável, mas não ideal. \n",
            "\n",
            "**Potencial para alergias:**\n",
            "\n",
            "* **Grão de bico (Falafel):**  Alergia a grão de bico, embora menos comum, é possível.\n",
            "* **Sementes de gergelim (Tahine):**  Alergia a gergelim é relativamente comum.\n",
            "* **Glúten (Pão Pita):**  Contém glúten, um alergênico comum para pessoas com doença celíaca ou sensibilidade ao glúten.\n",
            "\n",
            "**Recomendações para uma versão mais saudável:**\n",
            "\n",
            "* Assar os bolinhos de Falafel em vez de fritá-los.\n",
            "* Optar por pão pita integral para aumentar o teor de fibra.\n",
            "* Preparar um molho à base de iogurte natural ou tahine com baixo teor de sódio.\n",
            "* Incluir mais vegetais frescos, como tomate, pepino e cebola. \n",
            "\n",
            "```\n"
          ]
        }
      ]
    },
    {
      "cell_type": "markdown",
      "source": [
        "### Prato 2"
      ],
      "metadata": {
        "id": "me2lGhQnZKQw"
      }
    },
    {
      "cell_type": "code",
      "source": [
        "result_2 = gera_sentimento(f\"{image_path}/prato_2.jpg\")\n",
        "print(f\"```markdown\\n{result_2}\\n```\")"
      ],
      "metadata": {
        "colab": {
          "base_uri": "https://localhost:8080/",
          "height": 662
        },
        "id": "srcC5i-4dovk",
        "outputId": "d44748b3-0ab1-4958-82b7-532ba3989b4f"
      },
      "execution_count": 15,
      "outputs": [
        {
          "output_type": "stream",
          "name": "stdout",
          "text": [
            "```markdown\n",
            "## Análise do Prato\n",
            "\n",
            "**Lista de alimentos em ordem alfabética:**\n",
            "\n",
            "* Abacate\n",
            "* Brócolis\n",
            "* Cenoura\n",
            "* Chickpeas (grão de bico)\n",
            "* Frango\n",
            "* Limão\n",
            "* Nozes\n",
            "* Repolho roxo\n",
            "* Tomate\n",
            "* Arroz integral\n",
            "* Alface\n",
            "\n",
            "**Descrição:**  O prato é uma tigela colorida e apetitosa com diversos ingredientes saudáveis, incluindo frango grelhado, arroz integral, abacate, brócolis, grão de bico, tomate, repolho roxo, nozes, cenoura, limão e alface. \n",
            "\n",
            "**Análise de Sentimento:** \n",
            "\n",
            "**POSITIVO:** A imagem transmite a sensação de um prato **saudável e nutritivo**. A variedade de cores vibrantes sugere frescor e riqueza em vitaminas e minerais. A presença de legumes, verduras, proteína magra (frango) e grãos integrais reforça a percepção de uma refeição completa e equilibrada.\n",
            "\n",
            "**Alerta de Alergia:**  \n",
            "\n",
            "**ALERTA:** Este prato contém ingredientes que podem causar alergias alimentares, incluindo:\n",
            "\n",
            "* **Nozes:**  As nozes são um alergênico comum, e reações alérgicas podem variar de leves a graves.\n",
            "* **Grão de Bico:** Pertencente à família das leguminosas, o grão de bico pode causar reações alérgicas em pessoas sensíveis.\n",
            "* **Frango:**  Embora menos comum, alergia a frango é possível.\n",
            "\n",
            "É importante estar ciente de que a imagem não fornece informações suficientes para determinar a presença de outros possíveis alergênicos.  A preparação do prato (óleo, temperos) também pode conter ingredientes alergênicos não visíveis na imagem.\n",
            "\n",
            "**Recomendação:** Pessoas com alergias alimentares devem ter cautela e confirmar a presença de todos os ingredientes e métodos de preparo antes de consumir este prato. \n",
            "\n",
            "```\n"
          ]
        }
      ]
    },
    {
      "cell_type": "markdown",
      "source": [
        "### Prato 3:"
      ],
      "metadata": {
        "id": "lsCpB_2_euJJ"
      }
    },
    {
      "cell_type": "code",
      "source": [
        "result_3 = gera_sentimento(f\"{image_path}/prato_3.jpg\")\n",
        "print(f\"```markdown\\n{result_3}\\n```\")"
      ],
      "metadata": {
        "colab": {
          "base_uri": "https://localhost:8080/",
          "height": 540
        },
        "id": "HyJ0ARtjehSC",
        "outputId": "41fa7321-1152-4a4b-f017-a44389e67368"
      },
      "execution_count": 16,
      "outputs": [
        {
          "output_type": "stream",
          "name": "stdout",
          "text": [
            "```markdown\n",
            "## Análise do Prato\n",
            "\n",
            "O prato contém os seguintes alimentos:\n",
            "\n",
            "1. **Batatas fritas:** Um alimento processado rico em carboidratos e gorduras, considerado não saudável.\n",
            "2. **Nuggets:** Feitos de carne processada de frango, empanados e fritos, são ricos em gorduras e sódio.\n",
            "3. **Bolinhos fritos:**  Alimentos processados, geralmente empanados e fritos, com alto teor de carboidratos e gorduras.\n",
            "\n",
            "## Descrição do Prato\n",
            "\n",
            "O prato consiste em uma porção grande de batatas fritas, acompanhadas de nuggets de frango e bolinhos fritos. É um prato tipicamente encontrado em restaurantes fast food.\n",
            "\n",
            "## Análise de Sentimento\n",
            "\n",
            "Este prato é considerado **não saudável**. Ele é rico em **carboidratos refinados**, **gorduras saturadas** e **sódio**, todos nutrientes que, em excesso, podem ser prejudiciais à saúde. O consumo frequente deste tipo de prato pode contribuir para o aumento de peso, colesterol alto e outros problemas de saúde.\n",
            "\n",
            "## Alimentos Alergênicos\n",
            "\n",
            "Enquanto não é possível determinar os ingredientes exatos dos nuggets e bolinhos, **o prato pode conter alergênicos comuns**, como:\n",
            "\n",
            "* **Glúten:** presente na maioria dos empanados.\n",
            "* **Ovos:** utilizados no preparo de massas e empanados.\n",
            "* **Soja:** pode estar presente nos nuggets e bolinhos, como ingrediente ou óleo de fritura.\n",
            "* **Leite:** pode ser usado na massa dos bolinhos e nuggets.\n",
            "\n",
            "É fundamental **verificar os ingredientes** dos alimentos em restaurantes para garantir que não contenham alergênicos. Em caso de dúvida, converse com o chef ou gerente do estabelecimento. \n",
            "\n",
            "```\n"
          ]
        }
      ]
    }
  ]
}